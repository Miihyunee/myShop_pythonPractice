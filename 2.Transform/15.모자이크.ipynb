{
 "cells": [
  {
   "cell_type": "code",
   "execution_count": 6,
   "metadata": {},
   "outputs": [],
   "source": [
    "import cv2\n",
    "\n",
    "# blur 처리에 사용할 커널 크기\n",
    "\n",
    "ksize = 30           \n",
    "\n",
    "win_title = 'mosaic'    \n",
    "\n",
    "img = cv2.imread('c:/data/images/apple.jpg')\n",
    "\n",
    "while True:\n",
    "    x,y,w,h = cv2.selectROI(win_title, img, False) # 관심영역 선택\n",
    "\n",
    "    if w > 0 and h > 0:\n",
    "        roi = img[y:y+h, x:x+w]   # 관심영역 지정\n",
    "        roi = cv2.blur(roi, (ksize, ksize)) # blur(모자이크) 처리\n",
    "        img[y:y+h, x:x+w] = roi   # 원본 이미지에 적용\n",
    "        cv2.imshow(win_title, img)\n",
    "    else:\n",
    "        break\n",
    "\n",
    "cv2.destroyAllWindows()"
   ]
  },
  {
   "cell_type": "code",
   "execution_count": 7,
   "metadata": {},
   "outputs": [
    {
     "ename": "error",
     "evalue": "OpenCV(4.9.0) D:\\a\\opencv-python\\opencv-python\\opencv\\modules\\highgui\\src\\window.cpp:971: error: (-215:Assertion failed) size.width>0 && size.height>0 in function 'cv::imshow'\n",
     "output_type": "error",
     "traceback": [
      "\u001b[1;31m---------------------------------------------------------------------------\u001b[0m",
      "\u001b[1;31merror\u001b[0m                                     Traceback (most recent call last)",
      "Cell \u001b[1;32mIn[7], line 13\u001b[0m\n\u001b[0;32m     10\u001b[0m img \u001b[38;5;241m=\u001b[39m cv2\u001b[38;5;241m.\u001b[39mimread(\u001b[38;5;124m'\u001b[39m\u001b[38;5;124mc:/data/images/taekwonv1.jpg\u001b[39m\u001b[38;5;124m'\u001b[39m)\n\u001b[0;32m     12\u001b[0m \u001b[38;5;28;01mwhile\u001b[39;00m \u001b[38;5;28;01mTrue\u001b[39;00m:\n\u001b[1;32m---> 13\u001b[0m     x,y,w,h \u001b[38;5;241m=\u001b[39m \u001b[43mcv2\u001b[49m\u001b[38;5;241;43m.\u001b[39;49m\u001b[43mselectROI\u001b[49m\u001b[43m(\u001b[49m\u001b[43mwin_title\u001b[49m\u001b[43m,\u001b[49m\u001b[43m \u001b[49m\u001b[43mimg\u001b[49m\u001b[43m,\u001b[49m\u001b[43m \u001b[49m\u001b[38;5;28;43;01mFalse\u001b[39;49;00m\u001b[43m)\u001b[49m \u001b[38;5;66;03m# 관심영역 선택\u001b[39;00m\n\u001b[0;32m     14\u001b[0m     \u001b[38;5;28;01mif\u001b[39;00m w \u001b[38;5;129;01mand\u001b[39;00m h:\n\u001b[0;32m     15\u001b[0m         roi \u001b[38;5;241m=\u001b[39m img[y:y\u001b[38;5;241m+\u001b[39mh, x:x\u001b[38;5;241m+\u001b[39mw]   \u001b[38;5;66;03m# 관심영역 지정\u001b[39;00m\n",
      "\u001b[1;31merror\u001b[0m: OpenCV(4.9.0) D:\\a\\opencv-python\\opencv-python\\opencv\\modules\\highgui\\src\\window.cpp:971: error: (-215:Assertion failed) size.width>0 && size.height>0 in function 'cv::imshow'\n"
     ]
    }
   ],
   "source": [
    "# 드래그 하여 선택 후 엔터 입력하면 모자이크 처리됨\n",
    "\n",
    "import cv2\n",
    "\n",
    "# 모자이크에 사용할 축소 비율 (1/rate)\n",
    "\n",
    "rate = 15              \n",
    "\n",
    "win_title = 'mosaic'\n",
    "img = cv2.imread('c:/data/images/taekwonv1.jpg')\n",
    "\n",
    "while True:\n",
    "    x,y,w,h = cv2.selectROI(win_title, img, False) # 관심영역 선택\n",
    "    if w and h:\n",
    "        roi = img[y:y+h, x:x+w]   # 관심영역 지정\n",
    "        # 1/rate 비율로 축소\n",
    "        roi = cv2.resize(roi, (w//rate, h//rate))\n",
    "        # 원래 크기로 확대\n",
    "        roi = cv2.resize(roi, (w,h), interpolation=cv2.INTER_AREA)  \n",
    "        img[y:y+h, x:x+w] = roi  \n",
    "        cv2.imshow(win_title, img)\n",
    "    else:\n",
    "        break    \n",
    "\n",
    "cv2.destroyAllWindows()"
   ]
  }
 ],
 "metadata": {
  "kernelspec": {
   "display_name": "Python 3",
   "language": "python",
   "name": "python3"
  },
  "language_info": {
   "codemirror_mode": {
    "name": "ipython",
    "version": 3
   },
   "file_extension": ".py",
   "mimetype": "text/x-python",
   "name": "python",
   "nbconvert_exporter": "python",
   "pygments_lexer": "ipython3",
   "version": "3.9.13"
  }
 },
 "nbformat": 4,
 "nbformat_minor": 2
}
