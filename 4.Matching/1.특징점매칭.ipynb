{
 "cells": [
  {
   "cell_type": "code",
   "execution_count": null,
   "metadata": {},
   "outputs": [],
   "source": [
    "import cv2\n",
    "\n",
    "img = cv2.imread(\"c:/images/mot_color70.jpg\")\n",
    "\n",
    "img=cv2.resize(img, (640, 480))\n",
    "\n",
    "img_object = cv2.imread(\"c:/images/mot_color83.jpg\", cv2.IMREAD_GRAYSCALE)\n",
    "\n",
    "gray = cv2.cvtColor(img, cv2.COLOR_BGR2GRAY)"
   ]
  },
  {
   "cell_type": "code",
   "execution_count": null,
   "metadata": {},
   "outputs": [],
   "source": [
    "#특징점 검출 알고리즘\n",
    "\n",
    "orb = cv2.ORB_create(nfeatures=40000)\n",
    "\n",
    "#특징점과 특징 디스크립터 계산\n",
    "\n",
    "#특징 디스크립터(feature descriptor) : 특징점 주변 픽셀을 일정한 크기의 블록으로 나누어 각 블록에 속한 픽셀의 그레디언트 히스토그램을 계산한 것(특징점 주변의 밝기, 색상, 방향, 크기 등의 정보)\n",
    "\n",
    "kp1, des1 = orb.detectAndCompute(gray, None)\n",
    "\n",
    "kp2, des2 = orb.detectAndCompute(img_object, None)\n",
    "\n",
    "bf = cv2.BFMatcher(cv2.NORM_HAMMING, crossCheck=True)\n",
    "\n",
    "matches = bf.match(des1, des2)\n",
    "\n",
    "matches = sorted(matches, key=lambda x: x.distance)\n",
    "\n",
    "count = 100\n",
    "\n",
    "for i in matches[:count]:\n",
    "\n",
    "    idx = i.queryIdx\n",
    "\n",
    "    x1, y1 = kp1[idx].pt\n",
    "\n",
    "    cv2.circle(img, (int(x1), int(y1)), 3, (0, 0, 255), 3)\n",
    "\n",
    "#DRAW_MATCHES_FLAGS_NOT_DRAW_SINGLE_POINTS : 한쪽만 있는 매칭 결과 제외 \n",
    "\n",
    "#DRAW_MATCHES_FLAGS_DRAW_RICH_KEYPOINTS : 특징점의 크기와 방향을 반영한 원"
   ]
  },
  {
   "cell_type": "code",
   "execution_count": null,
   "metadata": {},
   "outputs": [],
   "source": [
    "flag = (cv2.DRAW_MATCHES_FLAGS_NOT_DRAW_SINGLE_POINTS | cv2.DRAW_MATCHES_FLAGS_DRAW_RICH_KEYPOINTS)\n",
    "\n",
    "matching_result = cv2.drawMatches(img, kp1, img_object, kp2, matches[:count], None, flags=flag)\n",
    "\n",
    "cv2.imshow(\"Matching result\", matching_result)\n",
    "\n",
    "cv2.waitKey(0)\n",
    "\n",
    "cv2.destroyAllWindows()"
   ]
  }
 ],
 "metadata": {
  "kernelspec": {
   "display_name": "Python 3",
   "language": "python",
   "name": "python3"
  },
  "language_info": {
   "codemirror_mode": {
    "name": "ipython",
    "version": 3
   },
   "file_extension": ".py",
   "mimetype": "text/x-python",
   "name": "python",
   "nbconvert_exporter": "python",
   "pygments_lexer": "ipython3",
   "version": "3.9.13"
  }
 },
 "nbformat": 4,
 "nbformat_minor": 2
}
