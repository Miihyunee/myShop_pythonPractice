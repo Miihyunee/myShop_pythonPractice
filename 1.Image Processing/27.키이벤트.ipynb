{
 "cells": [
  {
   "cell_type": "code",
   "execution_count": 1,
   "metadata": {},
   "outputs": [
    {
     "name": "stdout",
     "output_type": "stream",
     "text": [
      "255 ÿ\n"
     ]
    },
    {
     "ename": "error",
     "evalue": "OpenCV(4.9.0) D:\\a\\opencv-python\\opencv-python\\opencv\\modules\\highgui\\src\\window_w32.cpp:1515: error: (-27:Null pointer) NULL window: 'IMG' in function 'cvMoveWindow'\n",
     "output_type": "error",
     "traceback": [
      "\u001b[1;31m---------------------------------------------------------------------------\u001b[0m",
      "\u001b[1;31merror\u001b[0m                                     Traceback (most recent call last)",
      "Cell \u001b[1;32mIn[1], line 34\u001b[0m\n\u001b[0;32m     30\u001b[0m     \u001b[38;5;28;01melif\u001b[39;00m key \u001b[38;5;241m==\u001b[39m \u001b[38;5;28mord\u001b[39m(\u001b[38;5;124m'\u001b[39m\u001b[38;5;124mq\u001b[39m\u001b[38;5;124m'\u001b[39m) \u001b[38;5;129;01mor\u001b[39;00m key \u001b[38;5;241m==\u001b[39m \u001b[38;5;241m27\u001b[39m: \u001b[38;5;66;03m# q , esc\u001b[39;00m\n\u001b[0;32m     31\u001b[0m         \u001b[38;5;28;01mbreak\u001b[39;00m\n\u001b[1;32m---> 34\u001b[0m     \u001b[43mcv2\u001b[49m\u001b[38;5;241;43m.\u001b[39;49m\u001b[43mmoveWindow\u001b[49m\u001b[43m(\u001b[49m\u001b[43mtitle\u001b[49m\u001b[43m,\u001b[49m\u001b[43m \u001b[49m\u001b[43mx\u001b[49m\u001b[43m,\u001b[49m\u001b[43m \u001b[49m\u001b[43my\u001b[49m\u001b[43m \u001b[49m\u001b[43m)\u001b[49m  \n\u001b[0;32m     36\u001b[0m cv2\u001b[38;5;241m.\u001b[39mdestroyAllWindows()\n",
      "\u001b[1;31merror\u001b[0m: OpenCV(4.9.0) D:\\a\\opencv-python\\opencv-python\\opencv\\modules\\highgui\\src\\window_w32.cpp:1515: error: (-27:Null pointer) NULL window: 'IMG' in function 'cvMoveWindow'\n"
     ]
    }
   ],
   "source": [
    "import cv2\n",
    "\n",
    "img_file = \"c:/images/winter.jpg\"\n",
    "img = cv2.imread(img_file)\n",
    "title = 'IMG'                  \n",
    "\n",
    "x, y = 2000, 100 #초기좌표              \n",
    "\n",
    "while True:\n",
    "\n",
    "    cv2.imshow(title, img)\n",
    "    cv2.moveWindow(title, x, y)\n",
    "\n",
    "    key = cv2.waitKey(0) & 0xFF # 키입력 무한 대기\n",
    "\n",
    "    print(key, chr(key))        \n",
    "\n",
    "    if key == ord('h'):        \n",
    "        x -= 10\n",
    "\n",
    "    elif key == ord('j'):      \n",
    "        y += 10\n",
    "\n",
    "    elif key == ord('k'):      \n",
    "        y -= 10\n",
    "\n",
    "    elif key == ord('l'):      \n",
    "        x += 10\n",
    "\n",
    "    elif key == ord('q') or key == 27: # q , esc\n",
    "        break\n",
    "\n",
    "        \n",
    "    cv2.moveWindow(title, x, y )  \n",
    "\n",
    "cv2.destroyAllWindows()"
   ]
  }
 ],
 "metadata": {
  "kernelspec": {
   "display_name": "Python 3",
   "language": "python",
   "name": "python3"
  },
  "language_info": {
   "codemirror_mode": {
    "name": "ipython",
    "version": 3
   },
   "file_extension": ".py",
   "mimetype": "text/x-python",
   "name": "python",
   "nbconvert_exporter": "python",
   "pygments_lexer": "ipython3",
   "version": "3.9.13"
  }
 },
 "nbformat": 4,
 "nbformat_minor": 2
}
