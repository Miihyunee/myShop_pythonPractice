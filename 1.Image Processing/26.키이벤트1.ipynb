{
 "cells": [
  {
   "cell_type": "code",
   "execution_count": 3,
   "metadata": {},
   "outputs": [],
   "source": [
    "import cv2\n",
    "\n",
    "# 이미지 읽기\n",
    "img = cv2.imread('c:/images/winter.jpg')\n",
    "\n",
    "# 윈도우 오픈\n",
    "cv2.namedWindow('img')\n",
    "\n",
    "# 이미지 표시\n",
    "cv2.imshow('img', img)\n",
    "\n",
    "while True: # 무한반복\n",
    "    keycode = cv2.waitKey() # 키입력 대기\n",
    "    if keycode == ord('i') or keycode == ord('I'):\n",
    "        img = ~img # ~ : bitwise 비트반전\n",
    "        cv2.imshow('img', img)\n",
    "    elif keycode == 27 or keycode == ord('q') or keycode == ord('Q'):\n",
    "        break\n",
    "\n",
    "# 모든 창 닫기\n",
    "cv2.destroyAllWindows()"
   ]
  }
 ],
 "metadata": {
  "kernelspec": {
   "display_name": "Python 3",
   "language": "python",
   "name": "python3"
  },
  "language_info": {
   "codemirror_mode": {
    "name": "ipython",
    "version": 3
   },
   "file_extension": ".py",
   "mimetype": "text/x-python",
   "name": "python",
   "nbconvert_exporter": "python",
   "pygments_lexer": "ipython3",
   "version": "3.9.13"
  }
 },
 "nbformat": 4,
 "nbformat_minor": 2
}
