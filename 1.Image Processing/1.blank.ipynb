{
 "cells": [
  {
   "cell_type": "code",
   "execution_count": 9,
   "metadata": {},
   "outputs": [
    {
     "name": "stdout",
     "output_type": "stream",
     "text": [
      "[[[  0   0 255]\n",
      "  [  0   0 255]\n",
      "  [  0   0 255]\n",
      "  ...\n",
      "  [  0   0 255]\n",
      "  [  0   0 255]\n",
      "  [  0   0 255]]\n",
      "\n",
      " [[  0   0 255]\n",
      "  [  0   0 255]\n",
      "  [  0   0 255]\n",
      "  ...\n",
      "  [  0   0 255]\n",
      "  [  0   0 255]\n",
      "  [  0   0 255]]\n",
      "\n",
      " [[  0   0 255]\n",
      "  [  0   0 255]\n",
      "  [  0   0 255]\n",
      "  ...\n",
      "  [  0   0 255]\n",
      "  [  0   0 255]\n",
      "  [  0   0 255]]\n",
      "\n",
      " ...\n",
      "\n",
      " [[  0   0 255]\n",
      "  [  0   0 255]\n",
      "  [  0   0 255]\n",
      "  ...\n",
      "  [  0   0 255]\n",
      "  [  0   0 255]\n",
      "  [  0   0 255]]\n",
      "\n",
      " [[  0   0 255]\n",
      "  [  0   0 255]\n",
      "  [  0   0 255]\n",
      "  ...\n",
      "  [  0   0 255]\n",
      "  [  0   0 255]\n",
      "  [  0   0 255]]\n",
      "\n",
      " [[  0   0 255]\n",
      "  [  0   0 255]\n",
      "  [  0   0 255]\n",
      "  ...\n",
      "  [  0   0 255]\n",
      "  [  0   0 255]\n",
      "  [  0   0 255]]]\n"
     ]
    }
   ],
   "source": [
    "import cv2\n",
    "import numpy as np\n",
    "\n",
    "img = np.full((500,500,3), (0,0,255), dtype=np.uint8)\n",
    "cv2.imwrite('c:/images/blank_500.jpg', img)\n",
    "print(img)"
   ]
  },
  {
   "cell_type": "code",
   "execution_count": 10,
   "metadata": {},
   "outputs": [
    {
     "data": {
      "image/png": "[encoded data removed]",
      "text/plain": [
       "<Figure size 640x480 with 1 Axes>"
      ]
     },
     "metadata": {},
     "output_type": "display_data"
    }
   ],
   "source": [
    "import matplotlib.pyplot as plt\n",
    "\n",
    "plt.imshow(img)\n",
    "plt.show()"
   ]
  }
 ],
 "metadata": {
  "kernelspec": {
   "display_name": "Python 3",
   "language": "python",
   "name": "python3"
  },
  "language_info": {
   "codemirror_mode": {
    "name": "ipython",
    "version": 3
   },
   "file_extension": ".py",
   "mimetype": "text/x-python",
   "name": "python",
   "nbconvert_exporter": "python",
   "pygments_lexer": "ipython3",
   "version": "3.9.13"
  }
 },
 "nbformat": 4,
 "nbformat_minor": 2
}
