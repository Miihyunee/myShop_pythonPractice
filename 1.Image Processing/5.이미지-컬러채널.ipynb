{
 "cells": [
  {
   "cell_type": "code",
   "execution_count": null,
   "metadata": {},
   "outputs": [],
   "source": [
    "import cv2\n",
    "import matplotlib.pyplot as plt\n",
    "import numpy as np\n",
    "\n",
    "img = cv2.imread(\"c:/images/rear_garden.PNG\")\n",
    "print(img.shape)\n",
    "(height, width) = img.shape[:2]\n",
    "center = (width // 2, height // 2)\n",
    "img = cv2.cvtColor(img, cv2.COLOR_BGR2RGB)\n",
    "plt.imshow(img)"
   ]
  },
  {
   "cell_type": "code",
   "execution_count": null,
   "metadata": {},
   "outputs": [],
   "source": [
    "# 이미지의 채널 분할\n",
    "\n",
    "(Blue, Green, Red) = cv2.split(img)\n",
    "zeros = np.zeros(img.shape[:2], dtype = \"uint8\")\n",
    "\n",
    "# red\n",
    "img = cv2.cvtColor(cv2.merge([zeros, zeros, Red]), cv2.COLOR_BGR2RGB)\n",
    "plt.imshow(img)"
   ]
  },
  {
   "cell_type": "code",
   "execution_count": null,
   "metadata": {},
   "outputs": [],
   "source": [
    "# green\n",
    "\n",
    "img = cv2.cvtColor(cv2.merge([zeros, Green, zeros]), cv2.COLOR_BGR2RGB)\n",
    "plt.imshow(img)"
   ]
  },
  {
   "cell_type": "code",
   "execution_count": null,
   "metadata": {},
   "outputs": [],
   "source": [
    "# blue\n",
    "\n",
    "img = cv2.cvtColor(cv2.merge([Blue, zeros, zeros]), cv2.COLOR_BGR2RGB)\n",
    "plt.imshow(img)"
   ]
  },
  {
   "cell_type": "code",
   "execution_count": null,
   "metadata": {},
   "outputs": [],
   "source": [
    "# 분할된 3채널 합치기\n",
    "\n",
    "BGR = cv2.merge([Blue, Green, Red])\n",
    "plt.imshow(BGR)"
   ]
  },
  {
   "cell_type": "code",
   "execution_count": null,
   "metadata": {},
   "outputs": [],
   "source": [
    "gray = cv2.cvtColor(img, cv2.COLOR_BGR2GRAY)\n",
    "plt.imshow(gray,cmap='gray')"
   ]
  }
 ],
 "metadata": {
  "kernelspec": {
   "display_name": "Python 3",
   "language": "python",
   "name": "python3"
  },
  "language_info": {
   "name": "python",
   "version": "3.9.13"
  }
 },
 "nbformat": 4,
 "nbformat_minor": 2
}
