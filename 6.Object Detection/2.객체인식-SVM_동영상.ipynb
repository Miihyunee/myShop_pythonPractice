{
 "cells": [
  {
   "cell_type": "code",
   "execution_count": 4,
   "metadata": {},
   "outputs": [],
   "source": [
    "import cv2\n",
    "\n",
    "# HOG 보행자 검출 알고리즘\n",
    "hogdef = cv2.HOGDescriptor()\n",
    "\n",
    "# 64 x 128 size로 훈련된 모델\n",
    "hogdef.setSVMDetector(cv2.HOGDescriptor_getDefaultPeopleDetector())\n",
    "\n",
    "#48 x 96 size로 훈련된 모델\n",
    "hogdaim  = cv2.HOGDescriptor((48,96), (16,16), (8,8), (8,8), 9)\n",
    "\n",
    "hogdaim.setSVMDetector(cv2.HOGDescriptor_getDaimlerPeopleDetector())\n",
    "\n",
    "cap = cv2.VideoCapture('c:/data/video/walking.mp4')\n",
    "\n",
    "mode = True  \n",
    "# mode = False\n",
    "\n",
    "while cap.isOpened(): # 영상 오픈\n",
    "    ret, img = cap.read()\n",
    "    if ret :\n",
    "        if mode:\n",
    "            # default 디텍터로 보행자 검출\n",
    "            found, _ = hogdef.detectMultiScale(img)\n",
    "            for (x,y,w,h) in found:\n",
    "                cv2.rectangle(img, (x,y), (x+w, y+h), (0,255,255))\n",
    "        else:\n",
    "            # daimler 디텍터로 보행자 검출\n",
    "            found, _ = hogdaim.detectMultiScale(img)\n",
    "            for (x,y,w,h) in found:\n",
    "                cv2.rectangle(img, (x,y), (x+w, y+h), (0,255,0))\n",
    "        cv2.putText(img, 'Detector:%s'%('Default' if mode else 'Daimler'), \\\n",
    "                        (10,50 ), cv2.FONT_HERSHEY_DUPLEX,1, (0,255,0),1)\n",
    "        cv2.imshow('frame', img)\n",
    "        key = cv2.waitKey(1)\n",
    "        if key == 27: # esc 키\n",
    "            break\n",
    "        elif key == ord(' '): # space - mode : true / false\n",
    "            mode = not mode\n",
    "    else:\n",
    "        break\n",
    "\n",
    "cap.release()\n",
    "cv2.destroyAllWindows()"
   ]
  }
 ],
 "metadata": {
  "kernelspec": {
   "display_name": "Python 3",
   "language": "python",
   "name": "python3"
  },
  "language_info": {
   "codemirror_mode": {
    "name": "ipython",
    "version": 3
   },
   "file_extension": ".py",
   "mimetype": "text/x-python",
   "name": "python",
   "nbconvert_exporter": "python",
   "pygments_lexer": "ipython3",
   "version": "3.9.13"
  }
 },
 "nbformat": 4,
 "nbformat_minor": 2
}
