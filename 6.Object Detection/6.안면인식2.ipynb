{
 "cells": [
  {
   "cell_type": "code",
   "execution_count": 1,
   "metadata": {},
   "outputs": [],
   "source": [
    "# DNN face detection\n",
    "# high accuracy, slow\n",
    "# 얼굴을 돌리고 있어도 인식률이 높음"
   ]
  },
  {
   "cell_type": "code",
   "execution_count": 2,
   "metadata": {},
   "outputs": [],
   "source": [
    "import cv2\n",
    "import numpy as np"
   ]
  },
  {
   "cell_type": "code",
   "execution_count": 3,
   "metadata": {},
   "outputs": [],
   "source": [
    "model_name = \"c:/data/models/res10_300x300_ssd_iter_140000.caffemodel\"\n",
    "\n",
    "# model Architecture\n",
    "prototxt_name = \"c:/data/models/deploy.prototxt.txt\"\n",
    "min_confidence = 0.3  \n",
    "\n",
    "# file_name = \"c:/data/images/meeting1.jpg\"\n",
    "file_name = \"c:/data/images/meeting2.jpg\""
   ]
  },
  {
   "cell_type": "code",
   "execution_count": 4,
   "metadata": {},
   "outputs": [
    {
     "ename": "NameError",
     "evalue": "name 'detections' is not defined",
     "output_type": "error",
     "traceback": [
      "\u001b[1;31m---------------------------------------------------------------------------\u001b[0m",
      "\u001b[1;31mNameError\u001b[0m                                 Traceback (most recent call last)",
      "Cell \u001b[1;32mIn[4], line 20\u001b[0m\n\u001b[0;32m     17\u001b[0m     detections \u001b[38;5;241m=\u001b[39m model\u001b[38;5;241m.\u001b[39mforward()\n\u001b[0;32m     19\u001b[0m     \u001b[38;5;66;03m# detections 한 수만큼 반복\u001b[39;00m\n\u001b[1;32m---> 20\u001b[0m \u001b[38;5;28;01mfor\u001b[39;00m i \u001b[38;5;129;01min\u001b[39;00m \u001b[38;5;28mrange\u001b[39m(\u001b[38;5;241m0\u001b[39m, \u001b[43mdetections\u001b[49m\u001b[38;5;241m.\u001b[39mshape[\u001b[38;5;241m2\u001b[39m]):\n\u001b[0;32m     21\u001b[0m             confidence \u001b[38;5;241m=\u001b[39m detections[\u001b[38;5;241m0\u001b[39m, \u001b[38;5;241m0\u001b[39m, i, \u001b[38;5;241m2\u001b[39m]  \u001b[38;5;66;03m# 확률 계산\u001b[39;00m\n\u001b[0;32m     22\u001b[0m             \u001b[38;5;28;01mif\u001b[39;00m confidence \u001b[38;5;241m>\u001b[39m min_confidence:\n\u001b[0;32m     23\u001b[0m \n\u001b[0;32m     24\u001b[0m                     \u001b[38;5;66;03m# boxing\u001b[39;00m\n",
      "\u001b[1;31mNameError\u001b[0m: name 'detections' is not defined"
     ]
    }
   ],
   "source": [
    "def detectAndDisplay(frame):\n",
    "\n",
    "    # frame_width 에 맞춰 image resize\n",
    "\n",
    "    (height, width) = frame.shape[:2]\n",
    "\n",
    "    ratio = frame_width / width\n",
    "    dimension = (frame_width, int(height * ratio))\n",
    "    frame = cv2.resize(frame, dimension, interpolation = cv2.INTER_AREA)\n",
    "    model = cv2.dnn.readNetFromCaffe(prototxt_name, model_name)\n",
    "\n",
    "    # 이미지를 300x300 resize , blob 생성\n",
    "\n",
    "    blob = cv2.dnn.blobFromImage(cv2.resize(frame, (300, 300)), 1.0,\n",
    "            (300, 300), (104.0, 177.0, 123.0))\n",
    "    model.setInput(blob)\n",
    "    detections = model.forward()\n",
    "\n",
    "    # detections 한 수만큼 반복\n",
    "for i in range(0, detections.shape[2]):\n",
    "            confidence = detections[0, 0, i, 2]  # 확률 계산\n",
    "            if confidence > min_confidence:\n",
    "\n",
    "                    # boxing\n",
    "                    box = detections[0, 0, i, 3:7] * np.array([frame_width, int(height * ratio), frame_width, int(height * ratio)])\n",
    "                    (startX, startY, endX, endY) = box.astype(\"int\")\n",
    "                    print(confidence, startX, startY, endX, endY)\n",
    "\n",
    "                    # boxing, 확률값 출력\n",
    "                    text = \"{:.2f}%\".format(confidence * 100)\n",
    "                    y = startY - 10 if startY - 10 > 10 else startY + 10\n",
    "                    cv2.rectangle(frame, (startX, startY), (endX, endY),\n",
    "                            (0, 255, 0), 2)\n",
    "\n",
    "                    cv2.putText(frame, text, (startX, y),\n",
    "                            cv2.FONT_HERSHEY_SIMPLEX, 0.5, (0, 255, 0), 1)\n",
    "\n",
    "plt.imshow(frame)"
   ]
  },
  {
   "cell_type": "code",
   "execution_count": null,
   "metadata": {},
   "outputs": [],
   "source": [
    "import matplotlib.pyplot as plt\n",
    "\n",
    "img = cv2.imread(file_name)\n",
    "print(img.shape)\n",
    "(height, width) = img.shape[:2]\n",
    "img=cv2.cvtColor(img, cv2.COLOR_BGR2RGB)\n",
    "plt.imshow(img)"
   ]
  },
  {
   "cell_type": "code",
   "execution_count": null,
   "metadata": {},
   "outputs": [],
   "source": [
    "frame_width = 450\n",
    "\n",
    "detectAndDisplay(img)"
   ]
  }
 ],
 "metadata": {
  "kernelspec": {
   "display_name": "Python 3",
   "language": "python",
   "name": "python3"
  },
  "language_info": {
   "codemirror_mode": {
    "name": "ipython",
    "version": 3
   },
   "file_extension": ".py",
   "mimetype": "text/x-python",
   "name": "python",
   "nbconvert_exporter": "python",
   "pygments_lexer": "ipython3",
   "version": "3.9.13"
  }
 },
 "nbformat": 4,
 "nbformat_minor": 2
}
